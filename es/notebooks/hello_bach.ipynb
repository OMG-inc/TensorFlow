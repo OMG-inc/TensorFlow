{
  "cells": [
    {
      "cell_type": "markdown",
      "metadata": {
        "id": "gl_ciGCVvif34"
      },
      "source": [
        "!!!!!!!!!!!!!!!! BORRADOR BORRADOR BORRADOR !!!!!!!!!!!!!!!!\n",
        "\n",
        "!!!!!!!!!!!!!!!! trabajar en progesss !!!!!!!!!!!!!!!!\n",
        "\n",
        "!!!!!!!!!!!!!!!! BORRADOR BORRADOR BORRADOR !!!!!!!!!!!!!!!!"
      ]
    },
    {
      "cell_type": "markdown",
      "metadata": {
        "id": "gl_oNqVG4t6sr"
      },
      "source": [
        "Créditos / Inspirado por => https://github.com/mwitiderrick/stockprice"
      ]
    },
    {
      "cell_type": "code",
      "execution_count": null,
      "metadata": {
        "id": "gl_iRyyTkhpnd"
      },
      "outputs": [

      ],
      "source": [
        "import numpy as np\n",
        "import matplotlib.pyplot as plt\n",
        "import pandas as pd"
      ]
    },
    {
      "cell_type": "code",
      "execution_count": null,
      "metadata": {
        "id": "gl_OhxckkGhpO"
      },
      "outputs": [

      ],
      "source": [
        "!pip install mido"
      ]
    },
    {
      "cell_type": "code",
      "execution_count": null,
      "metadata": {
        "id": "gl_jKuJBRVVo6"
      },
      "outputs": [

      ],
      "source": [
        "import mido\n",
        "mid = mido.MidiFile('bach.mid')"
      ]
    },
    {
      "cell_type": "code",
      "execution_count": null,
      "metadata": {
        "scrolled": true,
        "id": "gl_Qh7CMPNoKK"
      },
      "outputs": [

      ],
      "source": [
        "song = []\n",
        "full_song_message = []\n",
        "for i, track in enumerate(mid.tracks):\n",
        "    if track.name == \"Track 1\":\n",
        "        for msg in track:\n",
        "            print(msg)\n",
        "            if msg.dict()['type'] in ['note_on','note_off']:\n",
        "                song.append((msg.dict()['note'],msg.dict()['velocity'],msg.dict()['time'],msg.dict()['type']))\n",
        "            full_song_message.append(msg)"
      ]
    },
    {
      "cell_type": "code",
      "execution_count": null,
      "metadata": {
        "scrolled": true,
        "id": "gl_uUir2I9Yt4"
      },
      "outputs": [

      ],
      "source": [
        "song"
      ]
    },
    {
      "cell_type": "code",
      "execution_count": null,
      "metadata": {
        "id": "gl_JCrCYi3JFA"
      },
      "outputs": [

      ],
      "source": [
        "from mido import Message, MidiFile, MidiTrack\n",
        "\n",
        "mid = MidiFile()\n",
        "track = MidiTrack()\n",
        "mid.tracks.append(track)\n",
        "\n",
        "\n",
        "\n",
        "\n",
        "for note, velocity, time, type in song:\n",
        "    track.append(mido.Message(type, note=note, velocity=velocity, time=time))\n",
        "    #track.append(message)\n",
        "    \n",
        "mid.save('new_song.mid')"
      ]
    },
    {
      "cell_type": "code",
      "execution_count": null,
      "metadata": {
        "id": "gl_R7Lw3VpbMi"
      },
      "outputs": [

      ],
      "source": [
        "training_set = pd.DataFrame(song)\n",
        "del training_set[1]\n",
        "del training_set[2]\n",
        "del training_set[3]\n",
        "training_set = training_set.to_numpy()"
      ]
    },
    {
      "cell_type": "code",
      "execution_count": null,
      "metadata": {
        "id": "gl_fFIv5QURjm"
      },
      "outputs": [

      ],
      "source": [
        "\"\"\"\n",
        "from sklearn.preprocessing import MinMaxScaler\n",
        "sc = MinMaxScaler(feature_range = (0, 1))\n",
        "training_set_scaled = sc.fit_transform(training_set)\n",
        "\"\"\"\n",
        "training_set_scaled = training_set\n",
        "training_set_scaled"
      ]
    },
    {
      "cell_type": "code",
      "execution_count": null,
      "metadata": {
        "id": "gl_iqLPaoGu42"
      },
      "outputs": [

      ],
      "source": [
        "X_train = []\n",
        "y_train = []\n",
        "for i in range(60, 2700):\n",
        "    X_train.append(training_set_scaled[i-60:i, 0])\n",
        "    y_train.append(training_set_scaled[i:i+60, 0])\n",
        "X_train, y_train = np.array(X_train), np.array(y_train)\n",
        "\n",
        "X_train = np.reshape(X_train, (X_train.shape[0], X_train.shape[1], 1))\n",
        "y_train = np.reshape(y_train, (y_train.shape[0], y_train.shape[1], 1))\n"
      ]
    },
    {
      "cell_type": "code",
      "execution_count": null,
      "metadata": {
        "id": "gl_tueFmRdNnz"
      },
      "outputs": [

      ],
      "source": [
        "y_train"
      ]
    },
    {
      "cell_type": "code",
      "execution_count": null,
      "metadata": {
        "id": "gl_tuLz2VRIht"
      },
      "outputs": [

      ],
      "source": [

      ]
    },
    {
      "cell_type": "code",
      "execution_count": null,
      "metadata": {
        "id": "gl_XjgpdE78dW"
      },
      "outputs": [

      ],
      "source": [
        "from keras.models import Sequential\n",
        "from keras.layers import Dense\n",
        "from keras.layers import LSTM\n",
        "from keras.layers import Dropout"
      ]
    },
    {
      "cell_type": "code",
      "execution_count": null,
      "metadata": {
        "id": "gl_4m5IumWhoS"
      },
      "outputs": [

      ],
      "source": [
        "model = Sequential()\n",
        "model.add(LSTM(units = 50, return_sequences = True, input_shape = (X_train.shape[1], 1)))\n",
        "model.add(LSTM(units = 50, return_sequences = True))\n",
        "model.add(LSTM(units = 50, return_sequences = True))\n",
        "model.add(LSTM(units = 50, return_sequences = True))\n",
        "model.add(LSTM(units = 1, return_sequences = True))\n",
        "\n",
        "\n",
        "model.compile(optimizer = 'adam', loss = 'mean_squared_error')\n",
        "\n"
      ]
    },
    {
      "cell_type": "code",
      "execution_count": null,
      "metadata": {
        "scrolled": true,
        "id": "gl_uQHtVHmkKo"
      },
      "outputs": [

      ],
      "source": [
        "model.fit(X_train, y_train, epochs = 100, batch_size = 32)"
      ]
    },
    {
      "cell_type": "code",
      "execution_count": null,
      "metadata": {
        "id": "gl_7fLWpNU8CT"
      },
      "outputs": [

      ],
      "source": [
        "y_predict = model.predict(X_train)"
      ]
    },
    {
      "cell_type": "code",
      "execution_count": null,
      "metadata": {
        "id": "gl_HU6y9oV54Q"
      },
      "outputs": [

      ],
      "source": [
        "y_predict"
      ]
    },
    {
      "cell_type": "code",
      "execution_count": null,
      "metadata": {
        "id": "gl_nzpZG5ckVw"
      },
      "outputs": [

      ],
      "source": [
        "created_song = pd.DataFrame(song)"
      ]
    },
    {
      "cell_type": "code",
      "execution_count": null,
      "metadata": {
        "id": "gl_NKHXMMyOND"
      },
      "outputs": [

      ],
      "source": [
        "created_song"
      ]
    },
    {
      "cell_type": "code",
      "execution_count": null,
      "metadata": {
        "id": "gl_urYj8JLcbc"
      },
      "outputs": [

      ],
      "source": [

      ]
    }
  ],
  "metadata": {
    "kernelspec": {
      "display_name": "Python 3",
      "language": "python",
      "name": "python3"
    },
    "language_info": {
      "codemirror_mode": {
        "name": "ipython",
        "version": 3
      },
      "file_extension": ".py",
      "mimetype": "text/x-python",
      "name": "python",
      "nbconvert_exporter": "python",
      "pygments_lexer": "ipython3",
      "version": "3.7.4"
    }
  },
  "nbformat": 4,
  "nbformat_minor": 4
}
